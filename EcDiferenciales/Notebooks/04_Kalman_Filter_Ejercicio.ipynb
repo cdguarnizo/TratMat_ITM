{
  "nbformat": 4,
  "nbformat_minor": 0,
  "metadata": {
    "colab": {
      "name": "Kalman_Filter_Ejercicio.ipynb",
      "provenance": [],
      "collapsed_sections": []
    },
    "kernelspec": {
      "name": "python3",
      "display_name": "Python 3"
    }
  },
  "cells": [
    {
      "cell_type": "markdown",
      "metadata": {
        "id": "UOFcv2VP6HXB",
        "colab_type": "text"
      },
      "source": [
        "# Generacion de datos de un sistema dinamico discreto"
      ]
    },
    {
      "cell_type": "code",
      "metadata": {
        "id": "oStmXhX-2v9g",
        "colab_type": "code",
        "colab": {}
      },
      "source": [
        "import numpy as np\n",
        "import matplotlib.pyplot as plt\n",
        "\n",
        "np.random.seed(0)\n",
        "\n",
        "theta_1 = 1.0\n",
        "theta_2 = 0.6\n",
        "sigma2 = 0.05**2\n",
        "N = 100\n",
        "\n",
        "t = np.linspace(0.0,1,N)\n",
        "y_true = theta_1 + theta_2*t\n",
        "y = y_true + np.sqrt(sigma2)*np.random.randn(N)"
      ],
      "execution_count": 0,
      "outputs": []
    },
    {
      "cell_type": "markdown",
      "metadata": {
        "id": "Lp4BrP-i5UIS",
        "colab_type": "text"
      },
      "source": [
        "\n",
        "# Estimacion por minimos cuadrados"
      ]
    },
    {
      "cell_type": "code",
      "metadata": {
        "id": "5rOIztZw4r05",
        "colab_type": "code",
        "outputId": "bf106de8-a04f-432e-90d3-f2018b4012bd",
        "colab": {
          "base_uri": "https://localhost:8080/",
          "height": 285
        }
      },
      "source": [
        "m_0 = np.array([0.5,0.2])\n",
        "P_0 = np.eye(len(m_0))\n",
        "\n",
        "H_t = np.zeros((N,2))\n",
        "\n",
        "for i in range(0,N):\n",
        "  H_t[i,:] = np.array([[1.,t[i]]])\n",
        "\n",
        "Covm_t = np.linalg.inv(P_0) + 1/sigma2*np.dot(H_t.T,H_t) \n",
        "m_T = np.linalg.solve(Covm_t,1/sigma2*np.dot(H_t.T,y[0:N]) + np.linalg.solve(P_0,m_0))\n",
        "y_est = m_T[0] + m_T[1]*t\n",
        "\n",
        "print('theta:',m_T)\n",
        "\n",
        "plt.figure()\n",
        "plt.plot(t,y_true)\n",
        "plt.plot(t,y,'o')\n",
        "plt.plot(t,y_est)\n",
        "plt.show()"
      ],
      "execution_count": 2,
      "outputs": [
        {
          "output_type": "stream",
          "text": [
            "theta: [1.01042991 0.58509546]\n"
          ],
          "name": "stdout"
        },
        {
          "output_type": "display_data",
          "data": {
            "image/png": "[encoded data removed]",
            "text/plain": [
              "<Figure size 432x288 with 1 Axes>"
            ]
          },
          "metadata": {
            "tags": [],
            "needs_background": "light"
          }
        }
      ]
    },
    {
      "cell_type": "code",
      "metadata": {
        "id": "HaoMBc-zP1ws",
        "colab_type": "code",
        "outputId": "f05462c1-644a-4987-bf69-d3ecdb841761",
        "colab": {
          "base_uri": "https://localhost:8080/",
          "height": 35
        }
      },
      "source": [
        "Covm_t.shape"
      ],
      "execution_count": 3,
      "outputs": [
        {
          "output_type": "execute_result",
          "data": {
            "text/plain": [
              "(2, 2)"
            ]
          },
          "metadata": {
            "tags": []
          },
          "execution_count": 3
        }
      ]
    },
    {
      "cell_type": "markdown",
      "metadata": {
        "id": "PVtbYaYT5YJR",
        "colab_type": "text"
      },
      "source": [
        "\n",
        "# Estimacion usando el filtro de Kalman"
      ]
    },
    {
      "cell_type": "code",
      "metadata": {
        "id": "eJF5ne7i42b3",
        "colab_type": "code",
        "outputId": "c7b0136d-d4e7-473b-eded-f35883d4e654",
        "colab": {
          "base_uri": "https://localhost:8080/",
          "height": 283
        }
      },
      "source": [
        "m_0 = np.array([0,1.5])\n",
        "P_0 = np.eye(len(m_0))\n",
        "\n",
        "mk = np.zeros((2,N))\n",
        "mk1 = m_0\n",
        "mk[:,0] = m_0\n",
        "Pk1 = P_0\n",
        "\n",
        "for i in range(1,N):\n",
        "  Sk = np.dot(H_t[i,:],np.dot(Pk1,H_t[i,:])) + sigma2\n",
        "  Kk = 1.0/Sk*np.dot(Pk1,H_t[i,:])\n",
        "  #TODO Programar mk y Pk\n",
        "  mk[:,i] =  \n",
        "  Pk = \n",
        "  Pk1 = Pk\n",
        "\n",
        "print(mk[:,-1])  \n",
        "\n",
        "plt.figure()\n",
        "plt.plot(t,mk[0,:])\n",
        "plt.plot(t,mk[1,:])\n",
        "plt.show()"
      ],
      "execution_count": 5,
      "outputs": [
        {
          "output_type": "stream",
          "text": [
            "[1.00699037 0.59032546]\n"
          ],
          "name": "stdout"
        },
        {
          "output_type": "display_data",
          "data": {
            "image/png": "[encoded data removed]",
            "text/plain": [
              "<Figure size 432x288 with 1 Axes>"
            ]
          },
          "metadata": {
            "tags": [],
            "needs_background": "light"
          }
        }
      ]
    },
    {
      "cell_type": "code",
      "metadata": {
        "id": "ZXkMaid_UviU",
        "colab_type": "code",
        "colab": {}
      },
      "source": [
        ""
      ],
      "execution_count": 0,
      "outputs": []
    }
  ]
}
